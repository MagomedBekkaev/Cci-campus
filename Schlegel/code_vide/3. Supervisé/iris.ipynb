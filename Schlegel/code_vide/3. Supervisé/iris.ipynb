{
 "cells": [
  {
   "cell_type": "markdown",
   "metadata": {},
   "source": [
    "# Scikit-learn"
   ]
  },
  {
   "cell_type": "markdown",
   "metadata": {},
   "source": [
    "## Installation de Scikit-learn :\n",
    "* Installation de la bibliothèque : pip install scikit-learn\n",
    "* Ajouter scikit-learn à un projet : from sklearn import linear_model\n",
    "* Documentation : https://scikit-learn.org/stable/\n",
    "* Tester l'import"
   ]
  },
  {
   "cell_type": "code",
   "execution_count": null,
   "metadata": {},
   "outputs": [],
   "source": []
  },
  {
   "cell_type": "markdown",
   "metadata": {},
   "source": [
    "## Charger un modèle de scikit-learn\n",
    "* modele contient toutes les données\n",
    "* modele.target contient les cibles (0 : Setosa, 1 : Versicolor, 2 : Virginica)\n",
    "* modele.data contient les données"
   ]
  },
  {
   "cell_type": "code",
   "execution_count": null,
   "metadata": {},
   "outputs": [],
   "source": []
  },
  {
   "cell_type": "markdown",
   "metadata": {},
   "source": [
    "## Création du modèle\n",
    "* Nous allons utiliser une régression logistique qui est un algorithme de classification\n",
    "* Cet algorithme fait partie des modèles linéaires\n",
    "* Il prend plusieurs paramètres :\n",
    "    * C : Paramètre de régularisation (C élevé = données jugées fiables / C faible = données à prendre avec des pincettes)\n",
    "    * random_state : une valeur pour fixer l'aspect aléatoire pendant les tests"
   ]
  },
  {
   "cell_type": "code",
   "execution_count": null,
   "metadata": {},
   "outputs": [],
   "source": []
  },
  {
   "cell_type": "markdown",
   "metadata": {},
   "source": [
    "## Séparation des données d'apprentissage et de test\n",
    "* La fonction train_test_split permet de faire la séparation, elle prend en paramètre :\n",
    "    * Les données paramètres\n",
    "    * Les données cibles \n",
    "    * Le pourcentage de données allouées aux tests\n",
    "    * random_state : une valeur pour fixer l'aspect aléatoire pendant les tests"
   ]
  },
  {
   "cell_type": "code",
   "execution_count": null,
   "metadata": {},
   "outputs": [],
   "source": []
  },
  {
   "cell_type": "markdown",
   "metadata": {},
   "source": [
    "## Entrainement du modèle aves les données d'entrainement"
   ]
  },
  {
   "cell_type": "code",
   "execution_count": null,
   "metadata": {},
   "outputs": [],
   "source": []
  },
  {
   "cell_type": "markdown",
   "metadata": {},
   "source": [
    "## Prédiction\n",
    "* Maintenant que le modèle a appris avec les données d'apprentissage, utilisons le pour faire une prédiction sur les données de test"
   ]
  },
  {
   "cell_type": "code",
   "execution_count": null,
   "metadata": {},
   "outputs": [],
   "source": []
  },
  {
   "cell_type": "markdown",
   "metadata": {},
   "source": [
    "## Vérification manuelle de la précision du modèle\n",
    "* Il suffit de comparer les prévisions et les observations"
   ]
  },
  {
   "cell_type": "code",
   "execution_count": null,
   "metadata": {},
   "outputs": [],
   "source": []
  },
  {
   "cell_type": "markdown",
   "metadata": {},
   "source": [
    "## Vérification de la précision\n",
    "* Nous devons confronter la prédiction avec les observations pour pouvoir conclure à la fiabilité du modèle avec la fonction accuracy_score"
   ]
  },
  {
   "cell_type": "code",
   "execution_count": null,
   "metadata": {},
   "outputs": [],
   "source": []
  },
  {
   "cell_type": "markdown",
   "metadata": {},
   "source": [
    "# Utilisation de la matrice de confusion\n",
    "* Les observations sont en entête de ligne\n",
    "* Les prédictions sont en entête de colonne"
   ]
  },
  {
   "cell_type": "code",
   "execution_count": null,
   "metadata": {},
   "outputs": [],
   "source": []
  },
  {
   "cell_type": "markdown",
   "metadata": {},
   "source": [
    "## Je découvre une nouvelle iris\n",
    "* Je récupère ses mesures\n",
    "* Je lance une prédiction"
   ]
  },
  {
   "cell_type": "code",
   "execution_count": null,
   "metadata": {},
   "outputs": [],
   "source": []
  }
 ],
 "metadata": {
  "kernelspec": {
   "display_name": "Python 3",
   "language": "python",
   "name": "python3"
  },
  "language_info": {
   "codemirror_mode": {
    "name": "ipython",
    "version": 3
   },
   "file_extension": ".py",
   "mimetype": "text/x-python",
   "name": "python",
   "nbconvert_exporter": "python",
   "pygments_lexer": "ipython3",
   "version": "3.13.2"
  }
 },
 "nbformat": 4,
 "nbformat_minor": 2
}
